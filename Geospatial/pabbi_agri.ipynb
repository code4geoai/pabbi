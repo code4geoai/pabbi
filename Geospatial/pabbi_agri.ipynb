{
 "cells": [
  {
   "cell_type": "markdown",
   "id": "6f01f93d",
   "metadata": {},
   "source": [
    "# Agri Parcels Analysis"
   ]
  },
  {
   "cell_type": "markdown",
   "id": "1a6ad6a0",
   "metadata": {},
   "source": [
    "### Introduction\n",
    "<div style=\"text-align: justify;\">\n",
    "This study uses the temporal satellite imagery to identify patterns of land use change within the pilot area(Pabbi), such as shifts between agricultural and non-agricultural uses. The expected results include detailed maps and datasets highlighting areas of change, enabling authorities to identifty unauthorized land conversions accordingly. This report presents a concise analysis of a cluster of five **Mauzas** (revenue villages) in Tehsil Pabbi, District Nowshera, Khyber Pakhtunkhwa, Pakistan. The primary objective is to examine land use changes—specifically, the **conversion of agricultural land**—using both cadastral vector datasets and satellite imagery.\n",
    "\n",
    "The analysis utilizes the original **agricultural parcels (Khasras)** created during the land record digitization process. These parcels were overlaid with **median NDVI values** calculated for the period **January 1, 2024 to December 31, 2024**, derived from Sentinel-2 Harmonized satellite imagery. Based on this NDVI assessment, it is estimated that approximately **19%** of agricultural land has transitioned to non-agricultural use.\n",
    "\n",
    "---\n",
    "\n",
    "### Objectives\n",
    "1. Visualize the cadastral (vector) datasets of the five Mauzas on an interactive map.\n",
    "2. Display key land use types (e.g., agriculture, built-up areas, roads) in separate layers.\n",
    "3. Generate a median NDVI layer using **Sentinel-2 Harmonized (10m resolution)** imagery over a one-year period.\n",
    "4. Identify and visualize agricultural parcels with **median NDVI values between 0.3 and 0.7**, indicative of active cultivation.\n",
    "5. Quantify the reduction in agricultural land area in **Kanal**.\n",
    "\n",
    "---\n",
    "\n",
    "### Datasets\n",
    "\n",
    "- **Vector Data**  \n",
    "  The cadastral vector dataset was provided by [Mr. Aftab Ahmad](https://www.linkedin.com/in/aftab-ahmad-4316a463/), Deputy Director GIS, Board of Revenue (BOR), KP. It includes agricultural field boundaries (*Khasras*) categorized as follows:\n",
    "\n",
    "  | Land Use      | No. of Parcels | Area (Kanal, Approx.) |\n",
    "  |---------------|----------------|------------------------|\n",
    "  | Agriculture   | 5,795          | 32,729                 |\n",
    "  | Stream        | 302            | 822                    |\n",
    "  | Other         | 229            | 1,047                  |\n",
    "  | Road/Street   | 172            | 1,668                  |\n",
    "  | Graveyard     | 29             | 202                    |\n",
    "  | Built-Up      | 24             | 602                    |\n",
    "\n",
    "  > **Note:** This dataset is based on the manual land settlement records of 1926. Actual on-ground conditions may have changed since then.\n",
    "\n",
    "- **Satellite Imagery**  \n",
    "  - The study uses [Sentinel-2 Harmonized Surface Reflectance](https://developers.google.com/earth-engine/datasets/catalog/COPERNICUS_S2_SR_HARMONIZED) imagery, accessed via Google Earth Engine.\n",
    "  - Images were filtered by region (five Mauzas), date range (2024), and cloud coverage (<10%).\n",
    "  - A total of **135 images** were processed to compute NDVI values for the year 2024.\n",
    "\n",
    "---\n",
    "\n",
    "## Tools and Libraries Used\n",
    "- **Google Earth Engine** – Satellite image processing and remote sensing analysis  \n",
    "- **geemap** – Interactive mapping and Earth Engine integration in Python  \n",
    "- **GeoPandas** – Spatial data manipulation in Python\n",
    "\n",
    "---\n",
    "\n",
    "### Assumptions\n",
    "- Seasonal analysis (e.g., **Rabi** and **Kharif**) has not been performed. Instead, the study uses a one-year aggregated NDVI analysis to represent changes in agricultural land use.\n",
    "\n",
    "---\n",
    "\n",
    "### Findings\n",
    "- A total of **4,473 agricultural parcels** were identified with **median NDVI values below 0.3**, suggesting possible conversion to non-agricultural uses.\n",
    "- The total **agricultural area** has declined from **32,729 Kanal** to **26,359 Kanal**, indicating a **19% reduction** in cultivated land since the 1926 settlement.\n",
    "\n",
    "---\n",
    "</div>\n",
    "\n",
    "### Results\n",
    "\n",
    "![](../images/result.png)\n",
    "**Figure 1**: An image of the Results.\n"
   ]
  },
  {
   "cell_type": "code",
   "execution_count": 1,
   "id": "53b4635d",
   "metadata": {},
   "outputs": [],
   "source": [
    "import ee\n",
    "import geemap\n",
    "import geopandas as gpd"
   ]
  },
  {
   "cell_type": "code",
   "execution_count": 2,
   "id": "3f30c687",
   "metadata": {},
   "outputs": [
    {
     "data": {
      "text/html": [
       "\n",
       "            <style>\n",
       "                .geemap-dark {\n",
       "                    --jp-widgets-color: white;\n",
       "                    --jp-widgets-label-color: white;\n",
       "                    --jp-ui-font-color1: white;\n",
       "                    --jp-layout-color2: #454545;\n",
       "                    background-color: #383838;\n",
       "                }\n",
       "\n",
       "                .geemap-dark .jupyter-button {\n",
       "                    --jp-layout-color3: #383838;\n",
       "                }\n",
       "\n",
       "                .geemap-colab {\n",
       "                    background-color: var(--colab-primary-surface-color, white);\n",
       "                }\n",
       "\n",
       "                .geemap-colab .jupyter-button {\n",
       "                    --jp-layout-color3: var(--colab-primary-surface-color, white);\n",
       "                }\n",
       "            </style>\n",
       "            "
      ],
      "text/plain": [
       "<IPython.core.display.HTML object>"
      ]
     },
     "metadata": {},
     "output_type": "display_data"
    }
   ],
   "source": [
    "geemap.ee.Initialize()"
   ]
  },
  {
   "cell_type": "code",
   "execution_count": 3,
   "id": "089690f4",
   "metadata": {},
   "outputs": [
    {
     "data": {
      "text/html": [
       "\n",
       "            <style>\n",
       "                .geemap-dark {\n",
       "                    --jp-widgets-color: white;\n",
       "                    --jp-widgets-label-color: white;\n",
       "                    --jp-ui-font-color1: white;\n",
       "                    --jp-layout-color2: #454545;\n",
       "                    background-color: #383838;\n",
       "                }\n",
       "\n",
       "                .geemap-dark .jupyter-button {\n",
       "                    --jp-layout-color3: #383838;\n",
       "                }\n",
       "\n",
       "                .geemap-colab {\n",
       "                    background-color: var(--colab-primary-surface-color, white);\n",
       "                }\n",
       "\n",
       "                .geemap-colab .jupyter-button {\n",
       "                    --jp-layout-color3: var(--colab-primary-surface-color, white);\n",
       "                }\n",
       "            </style>\n",
       "            "
      ],
      "text/plain": [
       "<IPython.core.display.HTML object>"
      ]
     },
     "metadata": {},
     "output_type": "display_data"
    }
   ],
   "source": [
    "geojson_url = 'https://github.com/code4geoai/gee/releases/download/0.1/pabbigeojson.geojson'\n",
    "\n",
    "#parquet_file = 'pabbi.parquet'\n",
    "# The parquet file must be local or can be read from url with request. lets use the local file.\n"
   ]
  },
  {
   "cell_type": "code",
   "execution_count": 4,
   "id": "74baeb43",
   "metadata": {},
   "outputs": [
    {
     "data": {
      "text/html": [
       "\n",
       "            <style>\n",
       "                .geemap-dark {\n",
       "                    --jp-widgets-color: white;\n",
       "                    --jp-widgets-label-color: white;\n",
       "                    --jp-ui-font-color1: white;\n",
       "                    --jp-layout-color2: #454545;\n",
       "                    background-color: #383838;\n",
       "                }\n",
       "\n",
       "                .geemap-dark .jupyter-button {\n",
       "                    --jp-layout-color3: #383838;\n",
       "                }\n",
       "\n",
       "                .geemap-colab {\n",
       "                    background-color: var(--colab-primary-surface-color, white);\n",
       "                }\n",
       "\n",
       "                .geemap-colab .jupyter-button {\n",
       "                    --jp-layout-color3: var(--colab-primary-surface-color, white);\n",
       "                }\n",
       "            </style>\n",
       "            "
      ],
      "text/plain": [
       "<IPython.core.display.HTML object>"
      ]
     },
     "metadata": {},
     "output_type": "display_data"
    },
    {
     "data": {
      "text/html": [
       "<div>\n",
       "<style scoped>\n",
       "    .dataframe tbody tr th:only-of-type {\n",
       "        vertical-align: middle;\n",
       "    }\n",
       "\n",
       "    .dataframe tbody tr th {\n",
       "        vertical-align: top;\n",
       "    }\n",
       "\n",
       "    .dataframe thead th {\n",
       "        text-align: right;\n",
       "    }\n",
       "</style>\n",
       "<table border=\"1\" class=\"dataframe\">\n",
       "  <thead>\n",
       "    <tr style=\"text-align: right;\">\n",
       "      <th></th>\n",
       "      <th>Mouza_Name</th>\n",
       "      <th>Landuse_Ma</th>\n",
       "      <th>Area_Acre</th>\n",
       "      <th>FFID</th>\n",
       "      <th>Parcel_ID</th>\n",
       "      <th>geometry</th>\n",
       "      <th>Area_m2</th>\n",
       "    </tr>\n",
       "  </thead>\n",
       "  <tbody>\n",
       "    <tr>\n",
       "      <th>0</th>\n",
       "      <td>Khushmaqam</td>\n",
       "      <td>Agriculture</td>\n",
       "      <td>0.101785</td>\n",
       "      <td>1</td>\n",
       "      <td>668.0</td>\n",
       "      <td>MULTIPOLYGON (((753923.077 3769111.141, 753894...</td>\n",
       "      <td>411.907595</td>\n",
       "    </tr>\n",
       "    <tr>\n",
       "      <th>1</th>\n",
       "      <td>Khushmaqam</td>\n",
       "      <td>Built up</td>\n",
       "      <td>0.036718</td>\n",
       "      <td>2</td>\n",
       "      <td>670.0</td>\n",
       "      <td>MULTIPOLYGON (((753959.894 3769126.291, 753959...</td>\n",
       "      <td>148.590279</td>\n",
       "    </tr>\n",
       "    <tr>\n",
       "      <th>2</th>\n",
       "      <td>Khushmaqam</td>\n",
       "      <td>Agriculture</td>\n",
       "      <td>0.315557</td>\n",
       "      <td>3</td>\n",
       "      <td>632.0</td>\n",
       "      <td>MULTIPOLYGON (((753839.267 3769129.693, 753841...</td>\n",
       "      <td>1277.014013</td>\n",
       "    </tr>\n",
       "    <tr>\n",
       "      <th>3</th>\n",
       "      <td>Khushmaqam</td>\n",
       "      <td>Agriculture</td>\n",
       "      <td>0.187644</td>\n",
       "      <td>4</td>\n",
       "      <td>669.0</td>\n",
       "      <td>MULTIPOLYGON (((753952.852 3769131.737, 753946...</td>\n",
       "      <td>759.369193</td>\n",
       "    </tr>\n",
       "    <tr>\n",
       "      <th>4</th>\n",
       "      <td>Khushmaqam</td>\n",
       "      <td>Agriculture</td>\n",
       "      <td>0.161568</td>\n",
       "      <td>5</td>\n",
       "      <td>693.0</td>\n",
       "      <td>MULTIPOLYGON (((754361.202 3769166.424, 754269...</td>\n",
       "      <td>653.842075</td>\n",
       "    </tr>\n",
       "  </tbody>\n",
       "</table>\n",
       "</div>"
      ],
      "text/plain": [
       "   Mouza_Name   Landuse_Ma  Area_Acre  FFID  Parcel_ID  \\\n",
       "0  Khushmaqam  Agriculture   0.101785     1      668.0   \n",
       "1  Khushmaqam     Built up   0.036718     2      670.0   \n",
       "2  Khushmaqam  Agriculture   0.315557     3      632.0   \n",
       "3  Khushmaqam  Agriculture   0.187644     4      669.0   \n",
       "4  Khushmaqam  Agriculture   0.161568     5      693.0   \n",
       "\n",
       "                                            geometry      Area_m2  \n",
       "0  MULTIPOLYGON (((753923.077 3769111.141, 753894...   411.907595  \n",
       "1  MULTIPOLYGON (((753959.894 3769126.291, 753959...   148.590279  \n",
       "2  MULTIPOLYGON (((753839.267 3769129.693, 753841...  1277.014013  \n",
       "3  MULTIPOLYGON (((753952.852 3769131.737, 753946...   759.369193  \n",
       "4  MULTIPOLYGON (((754361.202 3769166.424, 754269...   653.842075  "
      ]
     },
     "execution_count": 4,
     "metadata": {},
     "output_type": "execute_result"
    }
   ],
   "source": [
    "#gdf = gpd.read_parquet(parquet_file)\n",
    "gdf = gpd.read_file(geojson_url)\n",
    "gdf['Area_m2'] = gdf['geometry'].area\n",
    "gdf.head()"
   ]
  },
  {
   "cell_type": "code",
   "execution_count": 5,
   "id": "d6e9e6fc",
   "metadata": {},
   "outputs": [
    {
     "data": {
      "text/html": [
       "\n",
       "            <style>\n",
       "                .geemap-dark {\n",
       "                    --jp-widgets-color: white;\n",
       "                    --jp-widgets-label-color: white;\n",
       "                    --jp-ui-font-color1: white;\n",
       "                    --jp-layout-color2: #454545;\n",
       "                    background-color: #383838;\n",
       "                }\n",
       "\n",
       "                .geemap-dark .jupyter-button {\n",
       "                    --jp-layout-color3: #383838;\n",
       "                }\n",
       "\n",
       "                .geemap-colab {\n",
       "                    background-color: var(--colab-primary-surface-color, white);\n",
       "                }\n",
       "\n",
       "                .geemap-colab .jupyter-button {\n",
       "                    --jp-layout-color3: var(--colab-primary-surface-color, white);\n",
       "                }\n",
       "            </style>\n",
       "            "
      ],
      "text/plain": [
       "<IPython.core.display.HTML object>"
      ]
     },
     "metadata": {},
     "output_type": "display_data"
    },
    {
     "data": {
      "application/vnd.microsoft.datawrangler.viewer.v0+json": {
       "columns": [
        {
         "name": "index",
         "rawType": "int64",
         "type": "integer"
        },
        {
         "name": "Landuse_Ma",
         "rawType": "object",
         "type": "string"
        },
        {
         "name": "Area_m2",
         "rawType": "float64",
         "type": "float"
        },
        {
         "name": "Area_Kanal",
         "rawType": "float64",
         "type": "float"
        }
       ],
       "conversionMethod": "pd.DataFrame",
       "ref": "0ef751de-9856-4d7d-8a28-8898b79a2510",
       "rows": [
        [
         "0",
         "Agriculture",
         "16556433.0",
         "32729.0"
        ],
        [
         "1",
         "Built up",
         "304364.0",
         "602.0"
        ],
        [
         "2",
         "Graveyard",
         "101968.0",
         "202.0"
        ],
        [
         "3",
         "Other",
         "529528.0",
         "1047.0"
        ],
        [
         "4",
         "Road/Streets",
         "843873.0",
         "1668.0"
        ],
        [
         "5",
         "Stream",
         "415791.0",
         "822.0"
        ]
       ],
       "shape": {
        "columns": 3,
        "rows": 6
       }
      },
      "text/html": [
       "<div>\n",
       "<style scoped>\n",
       "    .dataframe tbody tr th:only-of-type {\n",
       "        vertical-align: middle;\n",
       "    }\n",
       "\n",
       "    .dataframe tbody tr th {\n",
       "        vertical-align: top;\n",
       "    }\n",
       "\n",
       "    .dataframe thead th {\n",
       "        text-align: right;\n",
       "    }\n",
       "</style>\n",
       "<table border=\"1\" class=\"dataframe\">\n",
       "  <thead>\n",
       "    <tr style=\"text-align: right;\">\n",
       "      <th></th>\n",
       "      <th>Landuse_Ma</th>\n",
       "      <th>Area_m2</th>\n",
       "      <th>Area_Kanal</th>\n",
       "    </tr>\n",
       "  </thead>\n",
       "  <tbody>\n",
       "    <tr>\n",
       "      <th>0</th>\n",
       "      <td>Agriculture</td>\n",
       "      <td>16556433.0</td>\n",
       "      <td>32729.0</td>\n",
       "    </tr>\n",
       "    <tr>\n",
       "      <th>1</th>\n",
       "      <td>Built up</td>\n",
       "      <td>304364.0</td>\n",
       "      <td>602.0</td>\n",
       "    </tr>\n",
       "    <tr>\n",
       "      <th>2</th>\n",
       "      <td>Graveyard</td>\n",
       "      <td>101968.0</td>\n",
       "      <td>202.0</td>\n",
       "    </tr>\n",
       "    <tr>\n",
       "      <th>3</th>\n",
       "      <td>Other</td>\n",
       "      <td>529528.0</td>\n",
       "      <td>1047.0</td>\n",
       "    </tr>\n",
       "    <tr>\n",
       "      <th>4</th>\n",
       "      <td>Road/Streets</td>\n",
       "      <td>843873.0</td>\n",
       "      <td>1668.0</td>\n",
       "    </tr>\n",
       "    <tr>\n",
       "      <th>5</th>\n",
       "      <td>Stream</td>\n",
       "      <td>415791.0</td>\n",
       "      <td>822.0</td>\n",
       "    </tr>\n",
       "  </tbody>\n",
       "</table>\n",
       "</div>"
      ],
      "text/plain": [
       "     Landuse_Ma     Area_m2  Area_Kanal\n",
       "0   Agriculture  16556433.0     32729.0\n",
       "1      Built up    304364.0       602.0\n",
       "2     Graveyard    101968.0       202.0\n",
       "3         Other    529528.0      1047.0\n",
       "4  Road/Streets    843873.0      1668.0\n",
       "5        Stream    415791.0       822.0"
      ]
     },
     "execution_count": 5,
     "metadata": {},
     "output_type": "execute_result"
    }
   ],
   "source": [
    "# Group the area by Landuse_Ma value\n",
    "gdf_grouped = gdf.groupby('Landuse_Ma')['Area_m2'].sum().reset_index()\n",
    "# Now convert square meters to Kanals (1 Kanal = 505.857 m²)\n",
    "gdf_grouped['Area_Kanal'] = gdf_grouped['Area_m2'] / 505.857\n",
    "gdf_grouped.round()\n"
   ]
  },
  {
   "cell_type": "code",
   "execution_count": 6,
   "id": "39dd2e34",
   "metadata": {},
   "outputs": [
    {
     "data": {
      "text/html": [
       "\n",
       "            <style>\n",
       "                .geemap-dark {\n",
       "                    --jp-widgets-color: white;\n",
       "                    --jp-widgets-label-color: white;\n",
       "                    --jp-ui-font-color1: white;\n",
       "                    --jp-layout-color2: #454545;\n",
       "                    background-color: #383838;\n",
       "                }\n",
       "\n",
       "                .geemap-dark .jupyter-button {\n",
       "                    --jp-layout-color3: #383838;\n",
       "                }\n",
       "\n",
       "                .geemap-colab {\n",
       "                    background-color: var(--colab-primary-surface-color, white);\n",
       "                }\n",
       "\n",
       "                .geemap-colab .jupyter-button {\n",
       "                    --jp-layout-color3: var(--colab-primary-surface-color, white);\n",
       "                }\n",
       "            </style>\n",
       "            "
      ],
      "text/plain": [
       "<IPython.core.display.HTML object>"
      ]
     },
     "metadata": {},
     "output_type": "display_data"
    }
   ],
   "source": [
    "\n",
    "# Convert the GeoDataFrame to an Earth Engine FeatureCollection\n",
    "pabbi= geemap.gdf_to_ee(gdf)\n"
   ]
  },
  {
   "cell_type": "code",
   "execution_count": 7,
   "id": "71b5b436",
   "metadata": {},
   "outputs": [
    {
     "data": {
      "text/html": [
       "\n",
       "            <style>\n",
       "                .geemap-dark {\n",
       "                    --jp-widgets-color: white;\n",
       "                    --jp-widgets-label-color: white;\n",
       "                    --jp-ui-font-color1: white;\n",
       "                    --jp-layout-color2: #454545;\n",
       "                    background-color: #383838;\n",
       "                }\n",
       "\n",
       "                .geemap-dark .jupyter-button {\n",
       "                    --jp-layout-color3: #383838;\n",
       "                }\n",
       "\n",
       "                .geemap-colab {\n",
       "                    background-color: var(--colab-primary-surface-color, white);\n",
       "                }\n",
       "\n",
       "                .geemap-colab .jupyter-button {\n",
       "                    --jp-layout-color3: var(--colab-primary-surface-color, white);\n",
       "                }\n",
       "            </style>\n",
       "            "
      ],
      "text/plain": [
       "<IPython.core.display.HTML object>"
      ]
     },
     "metadata": {},
     "output_type": "display_data"
    }
   ],
   "source": [
    "\n",
    "#Filtering the features having Landuse_Ma as Builtup\n",
    "builtup=gdf[gdf['Landuse_Ma'] == 'Built up']\n",
    "\n",
    "builtstyle = {'color': 'white', \n",
    "         'width': 1,\n",
    "         'fillColor': '00000000',\n",
    "            \n",
    "         }"
   ]
  },
  {
   "cell_type": "code",
   "execution_count": 8,
   "id": "5960bd4a",
   "metadata": {},
   "outputs": [
    {
     "data": {
      "text/html": [
       "\n",
       "            <style>\n",
       "                .geemap-dark {\n",
       "                    --jp-widgets-color: white;\n",
       "                    --jp-widgets-label-color: white;\n",
       "                    --jp-ui-font-color1: white;\n",
       "                    --jp-layout-color2: #454545;\n",
       "                    background-color: #383838;\n",
       "                }\n",
       "\n",
       "                .geemap-dark .jupyter-button {\n",
       "                    --jp-layout-color3: #383838;\n",
       "                }\n",
       "\n",
       "                .geemap-colab {\n",
       "                    background-color: var(--colab-primary-surface-color, white);\n",
       "                }\n",
       "\n",
       "                .geemap-colab .jupyter-button {\n",
       "                    --jp-layout-color3: var(--colab-primary-surface-color, white);\n",
       "                }\n",
       "            </style>\n",
       "            "
      ],
      "text/plain": [
       "<IPython.core.display.HTML object>"
      ]
     },
     "metadata": {},
     "output_type": "display_data"
    }
   ],
   "source": [
    "#Filtering the features having Landuse_Ma as Agriculture\n",
    "agri=gdf[gdf['Landuse_Ma'] == 'Agriculture']\n",
    "agri_feature = geemap.gdf_to_ee(agri)\n",
    "agristyle = {'color': 'yellow', \n",
    "         'width': 1,\n",
    "         'fillColor': '00000000',\n",
    "            \n",
    "         }"
   ]
  },
  {
   "cell_type": "code",
   "execution_count": 9,
   "id": "f85b9f79",
   "metadata": {},
   "outputs": [
    {
     "data": {
      "text/html": [
       "\n",
       "            <style>\n",
       "                .geemap-dark {\n",
       "                    --jp-widgets-color: white;\n",
       "                    --jp-widgets-label-color: white;\n",
       "                    --jp-ui-font-color1: white;\n",
       "                    --jp-layout-color2: #454545;\n",
       "                    background-color: #383838;\n",
       "                }\n",
       "\n",
       "                .geemap-dark .jupyter-button {\n",
       "                    --jp-layout-color3: #383838;\n",
       "                }\n",
       "\n",
       "                .geemap-colab {\n",
       "                    background-color: var(--colab-primary-surface-color, white);\n",
       "                }\n",
       "\n",
       "                .geemap-colab .jupyter-button {\n",
       "                    --jp-layout-color3: var(--colab-primary-surface-color, white);\n",
       "                }\n",
       "            </style>\n",
       "            "
      ],
      "text/plain": [
       "<IPython.core.display.HTML object>"
      ]
     },
     "metadata": {},
     "output_type": "display_data"
    }
   ],
   "source": [
    "#Filtering the features having Landuse_Ma as Graveyard\n",
    "graveyard=gdf[gdf['Landuse_Ma'] == 'Graveyard']\n",
    "\n",
    "gravestyle = {'color': 'black', \n",
    "         'width': 1,\n",
    "         'fillColor': '00000000',\n",
    "            \n",
    "         }"
   ]
  },
  {
   "cell_type": "code",
   "execution_count": 10,
   "id": "18941763",
   "metadata": {},
   "outputs": [
    {
     "data": {
      "text/html": [
       "\n",
       "            <style>\n",
       "                .geemap-dark {\n",
       "                    --jp-widgets-color: white;\n",
       "                    --jp-widgets-label-color: white;\n",
       "                    --jp-ui-font-color1: white;\n",
       "                    --jp-layout-color2: #454545;\n",
       "                    background-color: #383838;\n",
       "                }\n",
       "\n",
       "                .geemap-dark .jupyter-button {\n",
       "                    --jp-layout-color3: #383838;\n",
       "                }\n",
       "\n",
       "                .geemap-colab {\n",
       "                    background-color: var(--colab-primary-surface-color, white);\n",
       "                }\n",
       "\n",
       "                .geemap-colab .jupyter-button {\n",
       "                    --jp-layout-color3: var(--colab-primary-surface-color, white);\n",
       "                }\n",
       "            </style>\n",
       "            "
      ],
      "text/plain": [
       "<IPython.core.display.HTML object>"
      ]
     },
     "metadata": {},
     "output_type": "display_data"
    }
   ],
   "source": [
    "# Basic Style for Pabbi Vector feature\n",
    "style = {'color': 'blue', \n",
    "         'width': 1,\n",
    "         'fillColor': '00000000',\n",
    "             \n",
    "         }"
   ]
  },
  {
   "cell_type": "code",
   "execution_count": 11,
   "id": "7ecb7af7",
   "metadata": {},
   "outputs": [
    {
     "data": {
      "text/html": [
       "\n",
       "            <style>\n",
       "                .geemap-dark {\n",
       "                    --jp-widgets-color: white;\n",
       "                    --jp-widgets-label-color: white;\n",
       "                    --jp-ui-font-color1: white;\n",
       "                    --jp-layout-color2: #454545;\n",
       "                    background-color: #383838;\n",
       "                }\n",
       "\n",
       "                .geemap-dark .jupyter-button {\n",
       "                    --jp-layout-color3: #383838;\n",
       "                }\n",
       "\n",
       "                .geemap-colab {\n",
       "                    background-color: var(--colab-primary-surface-color, white);\n",
       "                }\n",
       "\n",
       "                .geemap-colab .jupyter-button {\n",
       "                    --jp-layout-color3: var(--colab-primary-surface-color, white);\n",
       "                }\n",
       "            </style>\n",
       "            "
      ],
      "text/plain": [
       "<IPython.core.display.HTML object>"
      ]
     },
     "metadata": {},
     "output_type": "display_data"
    }
   ],
   "source": [
    "p = geemap.Map(fullscreen=True)\n",
    "p.add_basemap('HYBRID')"
   ]
  },
  {
   "cell_type": "code",
   "execution_count": 12,
   "id": "67c4d3c9",
   "metadata": {},
   "outputs": [
    {
     "data": {
      "text/html": [
       "\n",
       "            <style>\n",
       "                .geemap-dark {\n",
       "                    --jp-widgets-color: white;\n",
       "                    --jp-widgets-label-color: white;\n",
       "                    --jp-ui-font-color1: white;\n",
       "                    --jp-layout-color2: #454545;\n",
       "                    background-color: #383838;\n",
       "                }\n",
       "\n",
       "                .geemap-dark .jupyter-button {\n",
       "                    --jp-layout-color3: #383838;\n",
       "                }\n",
       "\n",
       "                .geemap-colab {\n",
       "                    background-color: var(--colab-primary-surface-color, white);\n",
       "                }\n",
       "\n",
       "                .geemap-colab .jupyter-button {\n",
       "                    --jp-layout-color3: var(--colab-primary-surface-color, white);\n",
       "                }\n",
       "            </style>\n",
       "            "
      ],
      "text/plain": [
       "<IPython.core.display.HTML object>"
      ]
     },
     "metadata": {},
     "output_type": "display_data"
    }
   ],
   "source": [
    "# Adding Satellite Imagery and calculating NDVI using Sentinel-2\n",
    "collection = ee.ImageCollection('COPERNICUS/S2_SR_HARMONIZED')\n",
    "# Filter the collection for a specific region and time period\n",
    "start_date = '2024-01-01'\n",
    "end_date = '2024-12-31'\n",
    "# Filter the collection by date and region\n",
    "filtered_collection = collection.filterDate(start_date, end_date).filterBounds(pabbi.geometry()).filter(ee.Filter.lt('CLOUDY_PIXEL_PERCENTAGE', 10))\n",
    "\n",
    "# Select the first image from the filtered collection\n",
    "median_image = filtered_collection.median().clip(pabbi.geometry())\n",
    "\n",
    "# Calculate NDVI\n",
    "ndvi = median_image.normalizedDifference(['B8', 'B4']).rename('NDVI')\n",
    "\n",
    "\n",
    "# Select the bands of interest (e.g.,NVDI)\n",
    "ndvi_vis = {\n",
    "    'min': 0.25,\n",
    "    'max': 0.8,\n",
    "    'palette': ['white', 'yellow', 'green', 'red']  # Red for highest vegetation\n",
    "}\n",
    "\n"
   ]
  },
  {
   "cell_type": "markdown",
   "id": "0db0d6ac",
   "metadata": {},
   "source": [
    "# Selecting only those parcels which have ndvi value between .3 and 0.7 "
   ]
  },
  {
   "cell_type": "code",
   "execution_count": 13,
   "id": "7edb73dc",
   "metadata": {},
   "outputs": [
    {
     "data": {
      "text/html": [
       "\n",
       "            <style>\n",
       "                .geemap-dark {\n",
       "                    --jp-widgets-color: white;\n",
       "                    --jp-widgets-label-color: white;\n",
       "                    --jp-ui-font-color1: white;\n",
       "                    --jp-layout-color2: #454545;\n",
       "                    background-color: #383838;\n",
       "                }\n",
       "\n",
       "                .geemap-dark .jupyter-button {\n",
       "                    --jp-layout-color3: #383838;\n",
       "                }\n",
       "\n",
       "                .geemap-colab {\n",
       "                    background-color: var(--colab-primary-surface-color, white);\n",
       "                }\n",
       "\n",
       "                .geemap-colab .jupyter-button {\n",
       "                    --jp-layout-color3: var(--colab-primary-surface-color, white);\n",
       "                }\n",
       "            </style>\n",
       "            "
      ],
      "text/plain": [
       "<IPython.core.display.HTML object>"
      ]
     },
     "metadata": {},
     "output_type": "display_data"
    }
   ],
   "source": [
    "# Step 1: Calculate NDVI for entire area alrady done above\n",
    "\n",
    "# Step 2: Calculate mean NDVI for each agri polygon\n",
    "agri_with_ndvi = ndvi.reduceRegions(\n",
    "    collection=agri_feature,\n",
    "    reducer=ee.Reducer.mean(),\n",
    "    scale=10,\n",
    ")\n",
    "\n",
    "# Step 3: Filter polygons with NDVI between 0.3 and 0.7\n",
    "agri_ndvi_filtered = agri_with_ndvi.filter(\n",
    "    ee.Filter.And(\n",
    "        ee.Filter.gte('mean', 0.3),\n",
    "        ee.Filter.lte('mean', 0.7)\n",
    "    )\n",
    ")"
   ]
  },
  {
   "cell_type": "code",
   "execution_count": 14,
   "id": "9cf512cb",
   "metadata": {},
   "outputs": [
    {
     "data": {
      "text/html": [
       "\n",
       "            <style>\n",
       "                .geemap-dark {\n",
       "                    --jp-widgets-color: white;\n",
       "                    --jp-widgets-label-color: white;\n",
       "                    --jp-ui-font-color1: white;\n",
       "                    --jp-layout-color2: #454545;\n",
       "                    background-color: #383838;\n",
       "                }\n",
       "\n",
       "                .geemap-dark .jupyter-button {\n",
       "                    --jp-layout-color3: #383838;\n",
       "                }\n",
       "\n",
       "                .geemap-colab {\n",
       "                    background-color: var(--colab-primary-surface-color, white);\n",
       "                }\n",
       "\n",
       "                .geemap-colab .jupyter-button {\n",
       "                    --jp-layout-color3: var(--colab-primary-surface-color, white);\n",
       "                }\n",
       "            </style>\n",
       "            "
      ],
      "text/plain": [
       "<IPython.core.display.HTML object>"
      ]
     },
     "metadata": {},
     "output_type": "display_data"
    }
   ],
   "source": [
    "# Style the filtered pabbi\n",
    "agrindvi_style = {'color': 'red', 'fillColor': 'FFFF0040'}"
   ]
  },
  {
   "cell_type": "code",
   "execution_count": 15,
   "id": "946b7203",
   "metadata": {},
   "outputs": [
    {
     "data": {
      "text/html": [
       "\n",
       "            <style>\n",
       "                .geemap-dark {\n",
       "                    --jp-widgets-color: white;\n",
       "                    --jp-widgets-label-color: white;\n",
       "                    --jp-ui-font-color1: white;\n",
       "                    --jp-layout-color2: #454545;\n",
       "                    background-color: #383838;\n",
       "                }\n",
       "\n",
       "                .geemap-dark .jupyter-button {\n",
       "                    --jp-layout-color3: #383838;\n",
       "                }\n",
       "\n",
       "                .geemap-colab {\n",
       "                    background-color: var(--colab-primary-surface-color, white);\n",
       "                }\n",
       "\n",
       "                .geemap-colab .jupyter-button {\n",
       "                    --jp-layout-color3: var(--colab-primary-surface-color, white);\n",
       "                }\n",
       "            </style>\n",
       "            "
      ],
      "text/plain": [
       "<IPython.core.display.HTML object>"
      ]
     },
     "metadata": {},
     "output_type": "display_data"
    },
    {
     "data": {
      "application/vnd.jupyter.widget-view+json": {
       "model_id": "f9e334bbc13146d4911814470c8a3e26",
       "version_major": 2,
       "version_minor": 0
      },
      "text/plain": [
       "Map(center=[34.02510458074524, 71.77439125564787], controls=(WidgetControl(options=['position', 'transparent_b…"
      ]
     },
     "execution_count": 15,
     "metadata": {},
     "output_type": "execute_result"
    }
   ],
   "source": [
    "# Adding Layers to Map\n",
    "\n",
    "p.addLayer(ndvi, ndvi_vis,  name='Median NDVI') # Add NDVI layer\n",
    "p.addLayer(pabbi.style(**style), {}, 'Pabbi Mouzas') # Add Pabbi layer Vector \n",
    "p.add_gdf(builtup, layer_name='Built up', style=builtstyle) # Add Builtup layer\n",
    "\n",
    "p.add_layer(agri_feature.style(**agristyle),{}, name='Agriculture') # Add Agriculture layer\n",
    "\n",
    "p.add_gdf(graveyard, layer_name='Graveyard', style=gravestyle) # Add Graveyard layer\n",
    "\n",
    "p.addLayer(agri_ndvi_filtered.style(**agrindvi_style), {}, 'Agri-NDVI (0.3-0.7)Filtered')\n",
    "\n",
    "p.add_colorbar(\n",
    "    vis_params=ndvi_vis,\n",
    "    label='NDVI',\n",
    "    orientation='horizontal',\n",
    "    position='bottomright',\n",
    "    layer_name = 'Median NDVI',\n",
    "    \n",
    ")\n",
    "\n",
    "p.center_object(pabbi, 10)\n",
    "\n",
    "p"
   ]
  },
  {
   "cell_type": "code",
   "execution_count": null,
   "id": "9b42c2b3",
   "metadata": {},
   "outputs": [
    {
     "data": {
      "text/html": [
       "\n",
       "            <style>\n",
       "                .geemap-dark {\n",
       "                    --jp-widgets-color: white;\n",
       "                    --jp-widgets-label-color: white;\n",
       "                    --jp-ui-font-color1: white;\n",
       "                    --jp-layout-color2: #454545;\n",
       "                    background-color: #383838;\n",
       "                }\n",
       "\n",
       "                .geemap-dark .jupyter-button {\n",
       "                    --jp-layout-color3: #383838;\n",
       "                }\n",
       "\n",
       "                .geemap-colab {\n",
       "                    background-color: var(--colab-primary-surface-color, white);\n",
       "                }\n",
       "\n",
       "                .geemap-colab .jupyter-button {\n",
       "                    --jp-layout-color3: var(--colab-primary-surface-color, white);\n",
       "                }\n",
       "            </style>\n",
       "            "
      ],
      "text/plain": [
       "<IPython.core.display.HTML object>"
      ]
     },
     "metadata": {},
     "output_type": "display_data"
    }
   ],
   "source": [
    "# # Simplify geometry with a tolerance (in meters)\n",
    "simplified_agri = agri_ndvi_filtered.map(lambda f: f.setGeometry(f.geometry().simplify(30)))\n",
    "# it didn't helped that much in reducing the time. initially it was 3m.28 seconds and now its also 3m.23s"
   ]
  },
  {
   "cell_type": "code",
   "execution_count": 27,
   "id": "7be68995",
   "metadata": {},
   "outputs": [
    {
     "data": {
      "text/html": [
       "\n",
       "            <style>\n",
       "                .geemap-dark {\n",
       "                    --jp-widgets-color: white;\n",
       "                    --jp-widgets-label-color: white;\n",
       "                    --jp-ui-font-color1: white;\n",
       "                    --jp-layout-color2: #454545;\n",
       "                    background-color: #383838;\n",
       "                }\n",
       "\n",
       "                .geemap-dark .jupyter-button {\n",
       "                    --jp-layout-color3: #383838;\n",
       "                }\n",
       "\n",
       "                .geemap-colab {\n",
       "                    background-color: var(--colab-primary-surface-color, white);\n",
       "                }\n",
       "\n",
       "                .geemap-colab .jupyter-button {\n",
       "                    --jp-layout-color3: var(--colab-primary-surface-color, white);\n",
       "                }\n",
       "            </style>\n",
       "            "
      ],
      "text/plain": [
       "<IPython.core.display.HTML object>"
      ]
     },
     "metadata": {},
     "output_type": "display_data"
    },
    {
     "data": {
      "text/html": [
       "<div>\n",
       "<style scoped>\n",
       "    .dataframe tbody tr th:only-of-type {\n",
       "        vertical-align: middle;\n",
       "    }\n",
       "\n",
       "    .dataframe tbody tr th {\n",
       "        vertical-align: top;\n",
       "    }\n",
       "\n",
       "    .dataframe thead th {\n",
       "        text-align: right;\n",
       "    }\n",
       "</style>\n",
       "<table border=\"1\" class=\"dataframe\">\n",
       "  <thead>\n",
       "    <tr style=\"text-align: right;\">\n",
       "      <th></th>\n",
       "      <th>geometry</th>\n",
       "      <th>Area_Acre</th>\n",
       "      <th>Area_m2</th>\n",
       "      <th>FFID</th>\n",
       "      <th>Landuse_Ma</th>\n",
       "      <th>Mouza_Name</th>\n",
       "      <th>Parcel_ID</th>\n",
       "      <th>mean</th>\n",
       "    </tr>\n",
       "  </thead>\n",
       "  <tbody>\n",
       "    <tr>\n",
       "      <th>0</th>\n",
       "      <td>LINESTRING (71.74939 34.03201, 71.74868 34.032...</td>\n",
       "      <td>0.315557</td>\n",
       "      <td>1277.014013</td>\n",
       "      <td>3</td>\n",
       "      <td>Agriculture</td>\n",
       "      <td>Khushmaqam</td>\n",
       "      <td>632</td>\n",
       "      <td>0.321833</td>\n",
       "    </tr>\n",
       "    <tr>\n",
       "      <th>1</th>\n",
       "      <td>LINESTRING (71.75503 34.03234, 71.75403 34.032...</td>\n",
       "      <td>0.161568</td>\n",
       "      <td>653.842075</td>\n",
       "      <td>5</td>\n",
       "      <td>Agriculture</td>\n",
       "      <td>Khushmaqam</td>\n",
       "      <td>693</td>\n",
       "      <td>0.502203</td>\n",
       "    </tr>\n",
       "    <tr>\n",
       "      <th>2</th>\n",
       "      <td>POLYGON ((71.75397 34.03242, 71.75401 34.03224...</td>\n",
       "      <td>0.161360</td>\n",
       "      <td>652.999728</td>\n",
       "      <td>7</td>\n",
       "      <td>Agriculture</td>\n",
       "      <td>Khushmaqam</td>\n",
       "      <td>692</td>\n",
       "      <td>0.302640</td>\n",
       "    </tr>\n",
       "    <tr>\n",
       "      <th>3</th>\n",
       "      <td>MULTILINESTRING ((71.7546 34.03248, 71.75436 3...</td>\n",
       "      <td>0.236664</td>\n",
       "      <td>957.747038</td>\n",
       "      <td>8</td>\n",
       "      <td>Agriculture</td>\n",
       "      <td>Khushmaqam</td>\n",
       "      <td>691</td>\n",
       "      <td>0.546135</td>\n",
       "    </tr>\n",
       "    <tr>\n",
       "      <th>4</th>\n",
       "      <td>POLYGON ((71.74868 34.03205, 71.74928 34.03214...</td>\n",
       "      <td>0.624915</td>\n",
       "      <td>2528.941989</td>\n",
       "      <td>9</td>\n",
       "      <td>Agriculture</td>\n",
       "      <td>Khushmaqam</td>\n",
       "      <td>631</td>\n",
       "      <td>0.330838</td>\n",
       "    </tr>\n",
       "  </tbody>\n",
       "</table>\n",
       "</div>"
      ],
      "text/plain": [
       "                                            geometry  Area_Acre      Area_m2  \\\n",
       "0  LINESTRING (71.74939 34.03201, 71.74868 34.032...   0.315557  1277.014013   \n",
       "1  LINESTRING (71.75503 34.03234, 71.75403 34.032...   0.161568   653.842075   \n",
       "2  POLYGON ((71.75397 34.03242, 71.75401 34.03224...   0.161360   652.999728   \n",
       "3  MULTILINESTRING ((71.7546 34.03248, 71.75436 3...   0.236664   957.747038   \n",
       "4  POLYGON ((71.74868 34.03205, 71.74928 34.03214...   0.624915  2528.941989   \n",
       "\n",
       "   FFID   Landuse_Ma  Mouza_Name  Parcel_ID      mean  \n",
       "0     3  Agriculture  Khushmaqam        632  0.321833  \n",
       "1     5  Agriculture  Khushmaqam        693  0.502203  \n",
       "2     7  Agriculture  Khushmaqam        692  0.302640  \n",
       "3     8  Agriculture  Khushmaqam        691  0.546135  \n",
       "4     9  Agriculture  Khushmaqam        631  0.330838  "
      ]
     },
     "execution_count": 27,
     "metadata": {},
     "output_type": "execute_result"
    }
   ],
   "source": [
    "#Converting the filtered agri polygons to GeoDataFrame\n",
    "\n",
    "new_gdf = geemap.ee_to_gdf(simplified_agri)\n",
    "new_gdf.head()"
   ]
  },
  {
   "cell_type": "code",
   "execution_count": 36,
   "id": "8e38730c",
   "metadata": {},
   "outputs": [
    {
     "data": {
      "text/html": [
       "\n",
       "            <style>\n",
       "                .geemap-dark {\n",
       "                    --jp-widgets-color: white;\n",
       "                    --jp-widgets-label-color: white;\n",
       "                    --jp-ui-font-color1: white;\n",
       "                    --jp-layout-color2: #454545;\n",
       "                    background-color: #383838;\n",
       "                }\n",
       "\n",
       "                .geemap-dark .jupyter-button {\n",
       "                    --jp-layout-color3: #383838;\n",
       "                }\n",
       "\n",
       "                .geemap-colab {\n",
       "                    background-color: var(--colab-primary-surface-color, white);\n",
       "                }\n",
       "\n",
       "                .geemap-colab .jupyter-button {\n",
       "                    --jp-layout-color3: var(--colab-primary-surface-color, white);\n",
       "                }\n",
       "            </style>\n",
       "            "
      ],
      "text/plain": [
       "<IPython.core.display.HTML object>"
      ]
     },
     "metadata": {},
     "output_type": "display_data"
    },
    {
     "data": {
      "text/plain": [
       "np.float64(0.3000960793690901)"
      ]
     },
     "execution_count": 36,
     "metadata": {},
     "output_type": "execute_result"
    }
   ],
   "source": [
    "new_gdf['mean'].min()"
   ]
  },
  {
   "cell_type": "code",
   "execution_count": 28,
   "id": "bb859bd6",
   "metadata": {},
   "outputs": [
    {
     "data": {
      "text/html": [
       "\n",
       "            <style>\n",
       "                .geemap-dark {\n",
       "                    --jp-widgets-color: white;\n",
       "                    --jp-widgets-label-color: white;\n",
       "                    --jp-ui-font-color1: white;\n",
       "                    --jp-layout-color2: #454545;\n",
       "                    background-color: #383838;\n",
       "                }\n",
       "\n",
       "                .geemap-dark .jupyter-button {\n",
       "                    --jp-layout-color3: #383838;\n",
       "                }\n",
       "\n",
       "                .geemap-colab {\n",
       "                    background-color: var(--colab-primary-surface-color, white);\n",
       "                }\n",
       "\n",
       "                .geemap-colab .jupyter-button {\n",
       "                    --jp-layout-color3: var(--colab-primary-surface-color, white);\n",
       "                }\n",
       "            </style>\n",
       "            "
      ],
      "text/plain": [
       "<IPython.core.display.HTML object>"
      ]
     },
     "metadata": {},
     "output_type": "display_data"
    },
    {
     "data": {
      "application/vnd.microsoft.datawrangler.viewer.v0+json": {
       "columns": [
        {
         "name": "index",
         "rawType": "int64",
         "type": "integer"
        },
        {
         "name": "Landuse_Ma",
         "rawType": "object",
         "type": "string"
        },
        {
         "name": "Area_m2",
         "rawType": "float64",
         "type": "float"
        },
        {
         "name": "Area_Kanal",
         "rawType": "float64",
         "type": "float"
        }
       ],
       "conversionMethod": "pd.DataFrame",
       "ref": "e7d72931-6c34-42e9-aa03-95c3c55cc647",
       "rows": [
        [
         "0",
         "Agriculture",
         "13333828.0",
         "26359.0"
        ]
       ],
       "shape": {
        "columns": 3,
        "rows": 1
       }
      },
      "text/html": [
       "<div>\n",
       "<style scoped>\n",
       "    .dataframe tbody tr th:only-of-type {\n",
       "        vertical-align: middle;\n",
       "    }\n",
       "\n",
       "    .dataframe tbody tr th {\n",
       "        vertical-align: top;\n",
       "    }\n",
       "\n",
       "    .dataframe thead th {\n",
       "        text-align: right;\n",
       "    }\n",
       "</style>\n",
       "<table border=\"1\" class=\"dataframe\">\n",
       "  <thead>\n",
       "    <tr style=\"text-align: right;\">\n",
       "      <th></th>\n",
       "      <th>Landuse_Ma</th>\n",
       "      <th>Area_m2</th>\n",
       "      <th>Area_Kanal</th>\n",
       "    </tr>\n",
       "  </thead>\n",
       "  <tbody>\n",
       "    <tr>\n",
       "      <th>0</th>\n",
       "      <td>Agriculture</td>\n",
       "      <td>13333828.0</td>\n",
       "      <td>26359.0</td>\n",
       "    </tr>\n",
       "  </tbody>\n",
       "</table>\n",
       "</div>"
      ],
      "text/plain": [
       "    Landuse_Ma     Area_m2  Area_Kanal\n",
       "0  Agriculture  13333828.0     26359.0"
      ]
     },
     "execution_count": 28,
     "metadata": {},
     "output_type": "execute_result"
    }
   ],
   "source": [
    "# Group the area by Landuse_Ma value\n",
    "newgdf_grouped = new_gdf.groupby('Landuse_Ma')['Area_m2'].sum().reset_index()\n",
    "# Now convert square meters to Kanals (1 Kanal = 505.857 m²)\n",
    "newgdf_grouped['Area_Kanal'] = newgdf_grouped['Area_m2'] / 505.857\n",
    "newgdf_grouped.round()\n"
   ]
  },
  {
   "cell_type": "code",
   "execution_count": 29,
   "id": "a2ff12f1",
   "metadata": {},
   "outputs": [
    {
     "data": {
      "text/html": [
       "\n",
       "            <style>\n",
       "                .geemap-dark {\n",
       "                    --jp-widgets-color: white;\n",
       "                    --jp-widgets-label-color: white;\n",
       "                    --jp-ui-font-color1: white;\n",
       "                    --jp-layout-color2: #454545;\n",
       "                    background-color: #383838;\n",
       "                }\n",
       "\n",
       "                .geemap-dark .jupyter-button {\n",
       "                    --jp-layout-color3: #383838;\n",
       "                }\n",
       "\n",
       "                .geemap-colab {\n",
       "                    background-color: var(--colab-primary-surface-color, white);\n",
       "                }\n",
       "\n",
       "                .geemap-colab .jupyter-button {\n",
       "                    --jp-layout-color3: var(--colab-primary-surface-color, white);\n",
       "                }\n",
       "            </style>\n",
       "            "
      ],
      "text/plain": [
       "<IPython.core.display.HTML object>"
      ]
     },
     "metadata": {},
     "output_type": "display_data"
    },
    {
     "data": {
      "text/plain": [
       "Landuse_Ma   Area_m2       Area_Kanal  \n",
       "Agriculture  1.333383e+07  26358.888827    1\n",
       "Name: count, dtype: int64"
      ]
     },
     "execution_count": 29,
     "metadata": {},
     "output_type": "execute_result"
    }
   ],
   "source": [
    "newgdf_grouped.value_counts()"
   ]
  }
 ],
 "metadata": {
  "kernelspec": {
   "display_name": "Python 3",
   "language": "python",
   "name": "python3"
  },
  "language_info": {
   "codemirror_mode": {
    "name": "ipython",
    "version": 3
   },
   "file_extension": ".py",
   "mimetype": "text/x-python",
   "name": "python",
   "nbconvert_exporter": "python",
   "pygments_lexer": "ipython3",
   "version": "3.12.9"
  }
 },
 "nbformat": 4,
 "nbformat_minor": 5
}
