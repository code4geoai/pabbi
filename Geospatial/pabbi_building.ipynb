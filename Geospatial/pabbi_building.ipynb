{
 "cells": [
  {
   "cell_type": "markdown",
   "id": "17524587",
   "metadata": {},
   "source": [
    "# Pabbi Building"
   ]
  }
 ],
 "metadata": {
  "language_info": {
   "name": "python"
  }
 },
 "nbformat": 4,
 "nbformat_minor": 5
}
