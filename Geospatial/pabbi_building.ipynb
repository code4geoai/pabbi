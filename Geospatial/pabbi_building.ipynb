{
 "cells": [
  {
   "cell_type": "markdown",
   "id": "17524587",
   "metadata": {},
   "source": [
    "# Pabbi Building"
   ]
  },
  {
   "cell_type": "code",
   "execution_count": null,
   "id": "7dd7f69c",
   "metadata": {},
   "outputs": [],
   "source": [
    "## Testing the markdown"
   ]
  },
  {
   "cell_type": "code",
   "execution_count": 1,
   "id": "a1121cb8",
   "metadata": {},
   "outputs": [
    {
     "name": "stdout",
     "output_type": "stream",
     "text": [
      "Hello\n"
     ]
    }
   ],
   "source": [
    "print(\"Hello\")"
   ]
  },
  {
   "cell_type": "code",
   "execution_count": null,
   "id": "5596fd51",
   "metadata": {},
   "outputs": [],
   "source": [
    "import leafmap.foliumap as leafmap\n"
   ]
  },
  {
   "cell_type": "code",
   "execution_count": null,
   "id": "bcb493f8",
   "metadata": {},
   "outputs": [],
   "source": [
    "m = leafmap.Map(center=[40, -100], zoom=4)\n",
    "m"
   ]
  }
 ],
 "metadata": {
  "kernelspec": {
   "display_name": "Python 3",
   "language": "python",
   "name": "python3"
  },
  "language_info": {
   "codemirror_mode": {
    "name": "ipython",
    "version": 3
   },
   "file_extension": ".py",
   "mimetype": "text/x-python",
   "name": "python",
   "nbconvert_exporter": "python",
   "pygments_lexer": "ipython3",
   "version": "3.12.9"
  }
 },
 "nbformat": 4,
 "nbformat_minor": 5
}
